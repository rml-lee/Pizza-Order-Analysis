{
 "cells": [
  {
   "metadata": {},
   "cell_type": "markdown",
   "source": "# Data Cleaning & Exploration - Pizza Place Orders",
   "id": "70d485cd1ab1a5e9"
  },
  {
   "metadata": {},
   "cell_type": "markdown",
   "source": "# Import Libraries",
   "id": "b13ab645dd47a430"
  },
  {
   "cell_type": "code",
   "id": "initial_id",
   "metadata": {
    "collapsed": true,
    "ExecuteTime": {
     "end_time": "2024-09-19T18:08:57.578031Z",
     "start_time": "2024-09-19T18:08:55.085416Z"
    }
   },
   "source": [
    "import pandas as pd\n",
    "import numpy as np"
   ],
   "outputs": [],
   "execution_count": 1
  },
  {
   "metadata": {},
   "cell_type": "markdown",
   "source": "# Load Dataset",
   "id": "a477e1d9343aa0ef"
  },
  {
   "metadata": {
    "ExecuteTime": {
     "end_time": "2024-09-19T18:08:57.692694Z",
     "start_time": "2024-09-19T18:08:57.582045Z"
    }
   },
   "cell_type": "code",
   "source": [
    "# Import CSV file\n",
    "orders = pd.read_csv('/Users/raheem-gsu/Documents/Github Portfolio Projects/Pizza-Order-Analysis/Datasets/Pizza Place Datasets/orders.csv')\n",
    "order_details = pd.read_csv('/Users/raheem-gsu/Documents/Github Portfolio Projects/Pizza-Order-Analysis/Datasets/Pizza Place Datasets/order_details.csv')\n",
    "pizza_types = pd.read_csv('/Users/raheem-gsu/Documents/Github Portfolio Projects/Pizza-Order-Analysis/Datasets/Pizza Place Datasets/pizza_types.csv', encoding='unicode_escape')\n",
    "pizzas = pd.read_csv('/Users/raheem-gsu/Documents/Github Portfolio Projects/Pizza-Order-Analysis/Datasets/Pizza Place Datasets/pizzas.csv')"
   ],
   "id": "b5f0c42572a4a5fb",
   "outputs": [],
   "execution_count": 2
  },
  {
   "metadata": {},
   "cell_type": "markdown",
   "source": "# Initial Data Inspection",
   "id": "afa0de1232789b34"
  },
  {
   "metadata": {
    "ExecuteTime": {
     "end_time": "2024-09-19T18:08:57.916737Z",
     "start_time": "2024-09-19T18:08:57.906757Z"
    }
   },
   "cell_type": "code",
   "source": [
    "# Display tables\n",
    "orders.head()"
   ],
   "id": "d4aadbc262c76b78",
   "outputs": [
    {
     "data": {
      "text/plain": [
       "   order_id        date      time\n",
       "0         1  2015-01-01  11:38:36\n",
       "1         2  2015-01-01  11:57:40\n",
       "2         3  2015-01-01  12:12:28\n",
       "3         4  2015-01-01  12:16:31\n",
       "4         5  2015-01-01  12:21:30"
      ],
      "text/html": [
       "<div>\n",
       "<style scoped>\n",
       "    .dataframe tbody tr th:only-of-type {\n",
       "        vertical-align: middle;\n",
       "    }\n",
       "\n",
       "    .dataframe tbody tr th {\n",
       "        vertical-align: top;\n",
       "    }\n",
       "\n",
       "    .dataframe thead th {\n",
       "        text-align: right;\n",
       "    }\n",
       "</style>\n",
       "<table border=\"1\" class=\"dataframe\">\n",
       "  <thead>\n",
       "    <tr style=\"text-align: right;\">\n",
       "      <th></th>\n",
       "      <th>order_id</th>\n",
       "      <th>date</th>\n",
       "      <th>time</th>\n",
       "    </tr>\n",
       "  </thead>\n",
       "  <tbody>\n",
       "    <tr>\n",
       "      <th>0</th>\n",
       "      <td>1</td>\n",
       "      <td>2015-01-01</td>\n",
       "      <td>11:38:36</td>\n",
       "    </tr>\n",
       "    <tr>\n",
       "      <th>1</th>\n",
       "      <td>2</td>\n",
       "      <td>2015-01-01</td>\n",
       "      <td>11:57:40</td>\n",
       "    </tr>\n",
       "    <tr>\n",
       "      <th>2</th>\n",
       "      <td>3</td>\n",
       "      <td>2015-01-01</td>\n",
       "      <td>12:12:28</td>\n",
       "    </tr>\n",
       "    <tr>\n",
       "      <th>3</th>\n",
       "      <td>4</td>\n",
       "      <td>2015-01-01</td>\n",
       "      <td>12:16:31</td>\n",
       "    </tr>\n",
       "    <tr>\n",
       "      <th>4</th>\n",
       "      <td>5</td>\n",
       "      <td>2015-01-01</td>\n",
       "      <td>12:21:30</td>\n",
       "    </tr>\n",
       "  </tbody>\n",
       "</table>\n",
       "</div>"
      ]
     },
     "execution_count": 3,
     "metadata": {},
     "output_type": "execute_result"
    }
   ],
   "execution_count": 3
  },
  {
   "metadata": {
    "ExecuteTime": {
     "end_time": "2024-09-19T18:08:57.975717Z",
     "start_time": "2024-09-19T18:08:57.969229Z"
    }
   },
   "cell_type": "code",
   "source": "order_details.head()",
   "id": "590e8bdb5a4be932",
   "outputs": [
    {
     "data": {
      "text/plain": [
       "   order_details_id  order_id       pizza_id  quantity\n",
       "0                 1         1     hawaiian_m         1\n",
       "1                 2         2  classic_dlx_m         1\n",
       "2                 3         2  five_cheese_l         1\n",
       "3                 4         2    ital_supr_l         1\n",
       "4                 5         2     mexicana_m         1"
      ],
      "text/html": [
       "<div>\n",
       "<style scoped>\n",
       "    .dataframe tbody tr th:only-of-type {\n",
       "        vertical-align: middle;\n",
       "    }\n",
       "\n",
       "    .dataframe tbody tr th {\n",
       "        vertical-align: top;\n",
       "    }\n",
       "\n",
       "    .dataframe thead th {\n",
       "        text-align: right;\n",
       "    }\n",
       "</style>\n",
       "<table border=\"1\" class=\"dataframe\">\n",
       "  <thead>\n",
       "    <tr style=\"text-align: right;\">\n",
       "      <th></th>\n",
       "      <th>order_details_id</th>\n",
       "      <th>order_id</th>\n",
       "      <th>pizza_id</th>\n",
       "      <th>quantity</th>\n",
       "    </tr>\n",
       "  </thead>\n",
       "  <tbody>\n",
       "    <tr>\n",
       "      <th>0</th>\n",
       "      <td>1</td>\n",
       "      <td>1</td>\n",
       "      <td>hawaiian_m</td>\n",
       "      <td>1</td>\n",
       "    </tr>\n",
       "    <tr>\n",
       "      <th>1</th>\n",
       "      <td>2</td>\n",
       "      <td>2</td>\n",
       "      <td>classic_dlx_m</td>\n",
       "      <td>1</td>\n",
       "    </tr>\n",
       "    <tr>\n",
       "      <th>2</th>\n",
       "      <td>3</td>\n",
       "      <td>2</td>\n",
       "      <td>five_cheese_l</td>\n",
       "      <td>1</td>\n",
       "    </tr>\n",
       "    <tr>\n",
       "      <th>3</th>\n",
       "      <td>4</td>\n",
       "      <td>2</td>\n",
       "      <td>ital_supr_l</td>\n",
       "      <td>1</td>\n",
       "    </tr>\n",
       "    <tr>\n",
       "      <th>4</th>\n",
       "      <td>5</td>\n",
       "      <td>2</td>\n",
       "      <td>mexicana_m</td>\n",
       "      <td>1</td>\n",
       "    </tr>\n",
       "  </tbody>\n",
       "</table>\n",
       "</div>"
      ]
     },
     "execution_count": 4,
     "metadata": {},
     "output_type": "execute_result"
    }
   ],
   "execution_count": 4
  },
  {
   "metadata": {
    "ExecuteTime": {
     "end_time": "2024-09-19T18:08:58.044873Z",
     "start_time": "2024-09-19T18:08:58.038592Z"
    }
   },
   "cell_type": "code",
   "source": "pizza_types.head()",
   "id": "1a237d1d9f6d6914",
   "outputs": [
    {
     "data": {
      "text/plain": [
       "  pizza_type_id                          name category  \\\n",
       "0       bbq_ckn    The Barbecue Chicken Pizza  Chicken   \n",
       "1      cali_ckn  The California Chicken Pizza  Chicken   \n",
       "2   ckn_alfredo     The Chicken Alfredo Pizza  Chicken   \n",
       "3     ckn_pesto       The Chicken Pesto Pizza  Chicken   \n",
       "4    southw_ckn   The Southwest Chicken Pizza  Chicken   \n",
       "\n",
       "                                         ingredients  \n",
       "0  Barbecued Chicken, Red Peppers, Green Peppers,...  \n",
       "1  Chicken, Artichoke, Spinach, Garlic, Jalapeno ...  \n",
       "2  Chicken, Red Onions, Red Peppers, Mushrooms, A...  \n",
       "3  Chicken, Tomatoes, Red Peppers, Spinach, Garli...  \n",
       "4  Chicken, Tomatoes, Red Peppers, Red Onions, Ja...  "
      ],
      "text/html": [
       "<div>\n",
       "<style scoped>\n",
       "    .dataframe tbody tr th:only-of-type {\n",
       "        vertical-align: middle;\n",
       "    }\n",
       "\n",
       "    .dataframe tbody tr th {\n",
       "        vertical-align: top;\n",
       "    }\n",
       "\n",
       "    .dataframe thead th {\n",
       "        text-align: right;\n",
       "    }\n",
       "</style>\n",
       "<table border=\"1\" class=\"dataframe\">\n",
       "  <thead>\n",
       "    <tr style=\"text-align: right;\">\n",
       "      <th></th>\n",
       "      <th>pizza_type_id</th>\n",
       "      <th>name</th>\n",
       "      <th>category</th>\n",
       "      <th>ingredients</th>\n",
       "    </tr>\n",
       "  </thead>\n",
       "  <tbody>\n",
       "    <tr>\n",
       "      <th>0</th>\n",
       "      <td>bbq_ckn</td>\n",
       "      <td>The Barbecue Chicken Pizza</td>\n",
       "      <td>Chicken</td>\n",
       "      <td>Barbecued Chicken, Red Peppers, Green Peppers,...</td>\n",
       "    </tr>\n",
       "    <tr>\n",
       "      <th>1</th>\n",
       "      <td>cali_ckn</td>\n",
       "      <td>The California Chicken Pizza</td>\n",
       "      <td>Chicken</td>\n",
       "      <td>Chicken, Artichoke, Spinach, Garlic, Jalapeno ...</td>\n",
       "    </tr>\n",
       "    <tr>\n",
       "      <th>2</th>\n",
       "      <td>ckn_alfredo</td>\n",
       "      <td>The Chicken Alfredo Pizza</td>\n",
       "      <td>Chicken</td>\n",
       "      <td>Chicken, Red Onions, Red Peppers, Mushrooms, A...</td>\n",
       "    </tr>\n",
       "    <tr>\n",
       "      <th>3</th>\n",
       "      <td>ckn_pesto</td>\n",
       "      <td>The Chicken Pesto Pizza</td>\n",
       "      <td>Chicken</td>\n",
       "      <td>Chicken, Tomatoes, Red Peppers, Spinach, Garli...</td>\n",
       "    </tr>\n",
       "    <tr>\n",
       "      <th>4</th>\n",
       "      <td>southw_ckn</td>\n",
       "      <td>The Southwest Chicken Pizza</td>\n",
       "      <td>Chicken</td>\n",
       "      <td>Chicken, Tomatoes, Red Peppers, Red Onions, Ja...</td>\n",
       "    </tr>\n",
       "  </tbody>\n",
       "</table>\n",
       "</div>"
      ]
     },
     "execution_count": 5,
     "metadata": {},
     "output_type": "execute_result"
    }
   ],
   "execution_count": 5
  },
  {
   "metadata": {
    "ExecuteTime": {
     "end_time": "2024-09-19T18:08:58.147668Z",
     "start_time": "2024-09-19T18:08:58.141290Z"
    }
   },
   "cell_type": "code",
   "source": "pizzas.head()",
   "id": "18a7be4eb42df76a",
   "outputs": [
    {
     "data": {
      "text/plain": [
       "     pizza_id pizza_type_id size  price\n",
       "0   bbq_ckn_s       bbq_ckn    S  12.75\n",
       "1   bbq_ckn_m       bbq_ckn    M  16.75\n",
       "2   bbq_ckn_l       bbq_ckn    L  20.75\n",
       "3  cali_ckn_s      cali_ckn    S  12.75\n",
       "4  cali_ckn_m      cali_ckn    M  16.75"
      ],
      "text/html": [
       "<div>\n",
       "<style scoped>\n",
       "    .dataframe tbody tr th:only-of-type {\n",
       "        vertical-align: middle;\n",
       "    }\n",
       "\n",
       "    .dataframe tbody tr th {\n",
       "        vertical-align: top;\n",
       "    }\n",
       "\n",
       "    .dataframe thead th {\n",
       "        text-align: right;\n",
       "    }\n",
       "</style>\n",
       "<table border=\"1\" class=\"dataframe\">\n",
       "  <thead>\n",
       "    <tr style=\"text-align: right;\">\n",
       "      <th></th>\n",
       "      <th>pizza_id</th>\n",
       "      <th>pizza_type_id</th>\n",
       "      <th>size</th>\n",
       "      <th>price</th>\n",
       "    </tr>\n",
       "  </thead>\n",
       "  <tbody>\n",
       "    <tr>\n",
       "      <th>0</th>\n",
       "      <td>bbq_ckn_s</td>\n",
       "      <td>bbq_ckn</td>\n",
       "      <td>S</td>\n",
       "      <td>12.75</td>\n",
       "    </tr>\n",
       "    <tr>\n",
       "      <th>1</th>\n",
       "      <td>bbq_ckn_m</td>\n",
       "      <td>bbq_ckn</td>\n",
       "      <td>M</td>\n",
       "      <td>16.75</td>\n",
       "    </tr>\n",
       "    <tr>\n",
       "      <th>2</th>\n",
       "      <td>bbq_ckn_l</td>\n",
       "      <td>bbq_ckn</td>\n",
       "      <td>L</td>\n",
       "      <td>20.75</td>\n",
       "    </tr>\n",
       "    <tr>\n",
       "      <th>3</th>\n",
       "      <td>cali_ckn_s</td>\n",
       "      <td>cali_ckn</td>\n",
       "      <td>S</td>\n",
       "      <td>12.75</td>\n",
       "    </tr>\n",
       "    <tr>\n",
       "      <th>4</th>\n",
       "      <td>cali_ckn_m</td>\n",
       "      <td>cali_ckn</td>\n",
       "      <td>M</td>\n",
       "      <td>16.75</td>\n",
       "    </tr>\n",
       "  </tbody>\n",
       "</table>\n",
       "</div>"
      ]
     },
     "execution_count": 6,
     "metadata": {},
     "output_type": "execute_result"
    }
   ],
   "execution_count": 6
  },
  {
   "metadata": {
    "ExecuteTime": {
     "end_time": "2024-09-19T18:08:58.317821Z",
     "start_time": "2024-09-19T18:08:58.271640Z"
    }
   },
   "cell_type": "code",
   "source": [
    "# Table information\n",
    "orders.info()"
   ],
   "id": "b9d979b0a62af1eb",
   "outputs": [
    {
     "name": "stdout",
     "output_type": "stream",
     "text": [
      "<class 'pandas.core.frame.DataFrame'>\n",
      "RangeIndex: 21350 entries, 0 to 21349\n",
      "Data columns (total 3 columns):\n",
      " #   Column    Non-Null Count  Dtype \n",
      "---  ------    --------------  ----- \n",
      " 0   order_id  21350 non-null  int64 \n",
      " 1   date      21350 non-null  object\n",
      " 2   time      21350 non-null  object\n",
      "dtypes: int64(1), object(2)\n",
      "memory usage: 500.5+ KB\n"
     ]
    }
   ],
   "execution_count": 7
  },
  {
   "metadata": {
    "ExecuteTime": {
     "end_time": "2024-09-19T18:08:58.442402Z",
     "start_time": "2024-09-19T18:08:58.434605Z"
    }
   },
   "cell_type": "code",
   "source": "order_details.info()",
   "id": "adf6f606d4157dc6",
   "outputs": [
    {
     "name": "stdout",
     "output_type": "stream",
     "text": [
      "<class 'pandas.core.frame.DataFrame'>\n",
      "RangeIndex: 48620 entries, 0 to 48619\n",
      "Data columns (total 4 columns):\n",
      " #   Column            Non-Null Count  Dtype \n",
      "---  ------            --------------  ----- \n",
      " 0   order_details_id  48620 non-null  int64 \n",
      " 1   order_id          48620 non-null  int64 \n",
      " 2   pizza_id          48620 non-null  object\n",
      " 3   quantity          48620 non-null  int64 \n",
      "dtypes: int64(3), object(1)\n",
      "memory usage: 1.5+ MB\n"
     ]
    }
   ],
   "execution_count": 8
  },
  {
   "metadata": {
    "ExecuteTime": {
     "end_time": "2024-09-19T18:08:58.504889Z",
     "start_time": "2024-09-19T18:08:58.497798Z"
    }
   },
   "cell_type": "code",
   "source": "pizza_types.info()",
   "id": "ee1e4b7acec633c1",
   "outputs": [
    {
     "name": "stdout",
     "output_type": "stream",
     "text": [
      "<class 'pandas.core.frame.DataFrame'>\n",
      "RangeIndex: 32 entries, 0 to 31\n",
      "Data columns (total 4 columns):\n",
      " #   Column         Non-Null Count  Dtype \n",
      "---  ------         --------------  ----- \n",
      " 0   pizza_type_id  32 non-null     object\n",
      " 1   name           32 non-null     object\n",
      " 2   category       32 non-null     object\n",
      " 3   ingredients    32 non-null     object\n",
      "dtypes: object(4)\n",
      "memory usage: 1.1+ KB\n"
     ]
    }
   ],
   "execution_count": 9
  },
  {
   "metadata": {
    "ExecuteTime": {
     "end_time": "2024-09-19T18:08:58.583566Z",
     "start_time": "2024-09-19T18:08:58.578001Z"
    }
   },
   "cell_type": "code",
   "source": "pizzas.info()",
   "id": "584def40195e9603",
   "outputs": [
    {
     "name": "stdout",
     "output_type": "stream",
     "text": [
      "<class 'pandas.core.frame.DataFrame'>\n",
      "RangeIndex: 96 entries, 0 to 95\n",
      "Data columns (total 4 columns):\n",
      " #   Column         Non-Null Count  Dtype  \n",
      "---  ------         --------------  -----  \n",
      " 0   pizza_id       96 non-null     object \n",
      " 1   pizza_type_id  96 non-null     object \n",
      " 2   size           96 non-null     object \n",
      " 3   price          96 non-null     float64\n",
      "dtypes: float64(1), object(3)\n",
      "memory usage: 3.1+ KB\n"
     ]
    }
   ],
   "execution_count": 10
  },
  {
   "metadata": {},
   "cell_type": "markdown",
   "source": "# Data Cleaning",
   "id": "cab794d4d4dcd0e"
  },
  {
   "metadata": {},
   "cell_type": "markdown",
   "source": "## Merging time and date fields",
   "id": "35a9477e94a74762"
  },
  {
   "metadata": {
    "ExecuteTime": {
     "end_time": "2024-09-19T18:08:58.618646Z",
     "start_time": "2024-09-19T18:08:58.603922Z"
    }
   },
   "cell_type": "code",
   "source": [
    "# Combines 'date' and 'time' fields into a single datetime field called 'timestamp'\n",
    "orders['timestamp'] = pd.to_datetime(orders['date'] + ' ' + orders['time'])"
   ],
   "id": "94a1ab56b605171e",
   "outputs": [],
   "execution_count": 11
  },
  {
   "metadata": {
    "ExecuteTime": {
     "end_time": "2024-09-19T18:08:58.657764Z",
     "start_time": "2024-09-19T18:08:58.648250Z"
    }
   },
   "cell_type": "code",
   "source": [
    "# Verify results\n",
    "orders.info()"
   ],
   "id": "864c3561b2b41788",
   "outputs": [
    {
     "name": "stdout",
     "output_type": "stream",
     "text": [
      "<class 'pandas.core.frame.DataFrame'>\n",
      "RangeIndex: 21350 entries, 0 to 21349\n",
      "Data columns (total 4 columns):\n",
      " #   Column     Non-Null Count  Dtype         \n",
      "---  ------     --------------  -----         \n",
      " 0   order_id   21350 non-null  int64         \n",
      " 1   date       21350 non-null  object        \n",
      " 2   time       21350 non-null  object        \n",
      " 3   timestamp  21350 non-null  datetime64[ns]\n",
      "dtypes: datetime64[ns](1), int64(1), object(2)\n",
      "memory usage: 667.3+ KB\n"
     ]
    }
   ],
   "execution_count": 12
  },
  {
   "metadata": {
    "ExecuteTime": {
     "end_time": "2024-09-19T18:08:58.685746Z",
     "start_time": "2024-09-19T18:08:58.681036Z"
    }
   },
   "cell_type": "code",
   "source": [
    "# Drop 'date' and 'time' fields\n",
    "orders.drop(columns=['date', 'time'], inplace=True)"
   ],
   "id": "6ab1d89a2d54fec2",
   "outputs": [],
   "execution_count": 13
  },
  {
   "metadata": {
    "ExecuteTime": {
     "end_time": "2024-09-19T18:08:58.726674Z",
     "start_time": "2024-09-19T18:08:58.719320Z"
    }
   },
   "cell_type": "code",
   "source": [
    "# Verify new table\n",
    "orders.info()"
   ],
   "id": "5f08e4ee6347b979",
   "outputs": [
    {
     "name": "stdout",
     "output_type": "stream",
     "text": [
      "<class 'pandas.core.frame.DataFrame'>\n",
      "RangeIndex: 21350 entries, 0 to 21349\n",
      "Data columns (total 2 columns):\n",
      " #   Column     Non-Null Count  Dtype         \n",
      "---  ------     --------------  -----         \n",
      " 0   order_id   21350 non-null  int64         \n",
      " 1   timestamp  21350 non-null  datetime64[ns]\n",
      "dtypes: datetime64[ns](1), int64(1)\n",
      "memory usage: 333.7 KB\n"
     ]
    }
   ],
   "execution_count": 14
  },
  {
   "metadata": {},
   "cell_type": "markdown",
   "source": "# Exploratory Data Analysis (EDA)",
   "id": "190a5688615c00b5"
  },
  {
   "metadata": {},
   "cell_type": "markdown",
   "source": "## Descriptive Statistics",
   "id": "681a5025b3d206d7"
  },
  {
   "metadata": {
    "ExecuteTime": {
     "end_time": "2024-09-19T18:12:36.409072Z",
     "start_time": "2024-09-19T18:12:36.396618Z"
    }
   },
   "cell_type": "code",
   "source": "orders.describe()",
   "id": "5cb4cb0996845ba5",
   "outputs": [
    {
     "data": {
      "text/plain": [
       "           order_id                      timestamp\n",
       "count  21350.000000                          21350\n",
       "mean   10675.500000  2015-06-29 16:16:51.249133568\n",
       "min        1.000000            2015-01-01 11:38:36\n",
       "25%     5338.250000  2015-03-31 16:08:10.750000128\n",
       "50%    10675.500000     2015-06-28 18:38:25.500000\n",
       "75%    16012.750000     2015-09-27 13:57:23.500000\n",
       "max    21350.000000            2015-12-31 23:02:05\n",
       "std     6163.358459                            NaN"
      ],
      "text/html": [
       "<div>\n",
       "<style scoped>\n",
       "    .dataframe tbody tr th:only-of-type {\n",
       "        vertical-align: middle;\n",
       "    }\n",
       "\n",
       "    .dataframe tbody tr th {\n",
       "        vertical-align: top;\n",
       "    }\n",
       "\n",
       "    .dataframe thead th {\n",
       "        text-align: right;\n",
       "    }\n",
       "</style>\n",
       "<table border=\"1\" class=\"dataframe\">\n",
       "  <thead>\n",
       "    <tr style=\"text-align: right;\">\n",
       "      <th></th>\n",
       "      <th>order_id</th>\n",
       "      <th>timestamp</th>\n",
       "    </tr>\n",
       "  </thead>\n",
       "  <tbody>\n",
       "    <tr>\n",
       "      <th>count</th>\n",
       "      <td>21350.000000</td>\n",
       "      <td>21350</td>\n",
       "    </tr>\n",
       "    <tr>\n",
       "      <th>mean</th>\n",
       "      <td>10675.500000</td>\n",
       "      <td>2015-06-29 16:16:51.249133568</td>\n",
       "    </tr>\n",
       "    <tr>\n",
       "      <th>min</th>\n",
       "      <td>1.000000</td>\n",
       "      <td>2015-01-01 11:38:36</td>\n",
       "    </tr>\n",
       "    <tr>\n",
       "      <th>25%</th>\n",
       "      <td>5338.250000</td>\n",
       "      <td>2015-03-31 16:08:10.750000128</td>\n",
       "    </tr>\n",
       "    <tr>\n",
       "      <th>50%</th>\n",
       "      <td>10675.500000</td>\n",
       "      <td>2015-06-28 18:38:25.500000</td>\n",
       "    </tr>\n",
       "    <tr>\n",
       "      <th>75%</th>\n",
       "      <td>16012.750000</td>\n",
       "      <td>2015-09-27 13:57:23.500000</td>\n",
       "    </tr>\n",
       "    <tr>\n",
       "      <th>max</th>\n",
       "      <td>21350.000000</td>\n",
       "      <td>2015-12-31 23:02:05</td>\n",
       "    </tr>\n",
       "    <tr>\n",
       "      <th>std</th>\n",
       "      <td>6163.358459</td>\n",
       "      <td>NaN</td>\n",
       "    </tr>\n",
       "  </tbody>\n",
       "</table>\n",
       "</div>"
      ]
     },
     "execution_count": 23,
     "metadata": {},
     "output_type": "execute_result"
    }
   ],
   "execution_count": 23
  },
  {
   "metadata": {
    "ExecuteTime": {
     "end_time": "2024-09-19T18:08:58.796319Z",
     "start_time": "2024-09-19T18:08:58.757176Z"
    }
   },
   "cell_type": "code",
   "source": "order_details.describe()",
   "id": "346479544aeed49e",
   "outputs": [
    {
     "data": {
      "text/plain": [
       "       order_details_id      order_id      quantity\n",
       "count      48620.000000  48620.000000  48620.000000\n",
       "mean       24310.500000  10701.479761      1.019622\n",
       "std        14035.529381   6180.119770      0.143077\n",
       "min            1.000000      1.000000      1.000000\n",
       "25%        12155.750000   5337.000000      1.000000\n",
       "50%        24310.500000  10682.500000      1.000000\n",
       "75%        36465.250000  16100.000000      1.000000\n",
       "max        48620.000000  21350.000000      4.000000"
      ],
      "text/html": [
       "<div>\n",
       "<style scoped>\n",
       "    .dataframe tbody tr th:only-of-type {\n",
       "        vertical-align: middle;\n",
       "    }\n",
       "\n",
       "    .dataframe tbody tr th {\n",
       "        vertical-align: top;\n",
       "    }\n",
       "\n",
       "    .dataframe thead th {\n",
       "        text-align: right;\n",
       "    }\n",
       "</style>\n",
       "<table border=\"1\" class=\"dataframe\">\n",
       "  <thead>\n",
       "    <tr style=\"text-align: right;\">\n",
       "      <th></th>\n",
       "      <th>order_details_id</th>\n",
       "      <th>order_id</th>\n",
       "      <th>quantity</th>\n",
       "    </tr>\n",
       "  </thead>\n",
       "  <tbody>\n",
       "    <tr>\n",
       "      <th>count</th>\n",
       "      <td>48620.000000</td>\n",
       "      <td>48620.000000</td>\n",
       "      <td>48620.000000</td>\n",
       "    </tr>\n",
       "    <tr>\n",
       "      <th>mean</th>\n",
       "      <td>24310.500000</td>\n",
       "      <td>10701.479761</td>\n",
       "      <td>1.019622</td>\n",
       "    </tr>\n",
       "    <tr>\n",
       "      <th>std</th>\n",
       "      <td>14035.529381</td>\n",
       "      <td>6180.119770</td>\n",
       "      <td>0.143077</td>\n",
       "    </tr>\n",
       "    <tr>\n",
       "      <th>min</th>\n",
       "      <td>1.000000</td>\n",
       "      <td>1.000000</td>\n",
       "      <td>1.000000</td>\n",
       "    </tr>\n",
       "    <tr>\n",
       "      <th>25%</th>\n",
       "      <td>12155.750000</td>\n",
       "      <td>5337.000000</td>\n",
       "      <td>1.000000</td>\n",
       "    </tr>\n",
       "    <tr>\n",
       "      <th>50%</th>\n",
       "      <td>24310.500000</td>\n",
       "      <td>10682.500000</td>\n",
       "      <td>1.000000</td>\n",
       "    </tr>\n",
       "    <tr>\n",
       "      <th>75%</th>\n",
       "      <td>36465.250000</td>\n",
       "      <td>16100.000000</td>\n",
       "      <td>1.000000</td>\n",
       "    </tr>\n",
       "    <tr>\n",
       "      <th>max</th>\n",
       "      <td>48620.000000</td>\n",
       "      <td>21350.000000</td>\n",
       "      <td>4.000000</td>\n",
       "    </tr>\n",
       "  </tbody>\n",
       "</table>\n",
       "</div>"
      ]
     },
     "execution_count": 15,
     "metadata": {},
     "output_type": "execute_result"
    }
   ],
   "execution_count": 15
  },
  {
   "metadata": {
    "ExecuteTime": {
     "end_time": "2024-09-19T18:14:00.368978Z",
     "start_time": "2024-09-19T18:14:00.362235Z"
    }
   },
   "cell_type": "code",
   "source": "pizzas.describe()",
   "id": "65039ea80e2e3721",
   "outputs": [
    {
     "data": {
      "text/plain": [
       "           price\n",
       "count  96.000000\n",
       "mean   16.440625\n",
       "std     4.090266\n",
       "min     9.750000\n",
       "25%    12.500000\n",
       "50%    16.250000\n",
       "75%    20.250000\n",
       "max    35.950000"
      ],
      "text/html": [
       "<div>\n",
       "<style scoped>\n",
       "    .dataframe tbody tr th:only-of-type {\n",
       "        vertical-align: middle;\n",
       "    }\n",
       "\n",
       "    .dataframe tbody tr th {\n",
       "        vertical-align: top;\n",
       "    }\n",
       "\n",
       "    .dataframe thead th {\n",
       "        text-align: right;\n",
       "    }\n",
       "</style>\n",
       "<table border=\"1\" class=\"dataframe\">\n",
       "  <thead>\n",
       "    <tr style=\"text-align: right;\">\n",
       "      <th></th>\n",
       "      <th>price</th>\n",
       "    </tr>\n",
       "  </thead>\n",
       "  <tbody>\n",
       "    <tr>\n",
       "      <th>count</th>\n",
       "      <td>96.000000</td>\n",
       "    </tr>\n",
       "    <tr>\n",
       "      <th>mean</th>\n",
       "      <td>16.440625</td>\n",
       "    </tr>\n",
       "    <tr>\n",
       "      <th>std</th>\n",
       "      <td>4.090266</td>\n",
       "    </tr>\n",
       "    <tr>\n",
       "      <th>min</th>\n",
       "      <td>9.750000</td>\n",
       "    </tr>\n",
       "    <tr>\n",
       "      <th>25%</th>\n",
       "      <td>12.500000</td>\n",
       "    </tr>\n",
       "    <tr>\n",
       "      <th>50%</th>\n",
       "      <td>16.250000</td>\n",
       "    </tr>\n",
       "    <tr>\n",
       "      <th>75%</th>\n",
       "      <td>20.250000</td>\n",
       "    </tr>\n",
       "    <tr>\n",
       "      <th>max</th>\n",
       "      <td>35.950000</td>\n",
       "    </tr>\n",
       "  </tbody>\n",
       "</table>\n",
       "</div>"
      ]
     },
     "execution_count": 25,
     "metadata": {},
     "output_type": "execute_result"
    }
   ],
   "execution_count": 25
  },
  {
   "metadata": {},
   "cell_type": "markdown",
   "source": "## Handling Outliers",
   "id": "5971170c1a190998"
  },
  {
   "metadata": {},
   "cell_type": "markdown",
   "source": "These datasets don't have any outliers!",
   "id": "7ff4af4f54ccfa73"
  },
  {
   "metadata": {},
   "cell_type": "markdown",
   "source": "## Handling Missing Values",
   "id": "1cc81218cad32da7"
  },
  {
   "metadata": {
    "ExecuteTime": {
     "end_time": "2024-09-19T18:10:01.261342Z",
     "start_time": "2024-09-19T18:10:01.255251Z"
    }
   },
   "cell_type": "code",
   "outputs": [
    {
     "data": {
      "text/plain": [
       "order_id     0\n",
       "timestamp    0\n",
       "dtype: int64"
      ]
     },
     "execution_count": 17,
     "metadata": {},
     "output_type": "execute_result"
    }
   ],
   "execution_count": 17,
   "source": "orders.isnull().sum()",
   "id": "485f274f44093e67"
  },
  {
   "metadata": {
    "ExecuteTime": {
     "end_time": "2024-09-19T18:10:03.954466Z",
     "start_time": "2024-09-19T18:10:03.947301Z"
    }
   },
   "cell_type": "code",
   "outputs": [
    {
     "data": {
      "text/plain": [
       "order_details_id    0\n",
       "order_id            0\n",
       "pizza_id            0\n",
       "quantity            0\n",
       "dtype: int64"
      ]
     },
     "execution_count": 18,
     "metadata": {},
     "output_type": "execute_result"
    }
   ],
   "execution_count": 18,
   "source": "order_details.isnull().sum()",
   "id": "cf9bf42da7a382f"
  },
  {
   "metadata": {
    "ExecuteTime": {
     "end_time": "2024-09-19T18:10:05.380118Z",
     "start_time": "2024-09-19T18:10:05.375222Z"
    }
   },
   "cell_type": "code",
   "outputs": [
    {
     "data": {
      "text/plain": [
       "pizza_id         0\n",
       "pizza_type_id    0\n",
       "size             0\n",
       "price            0\n",
       "dtype: int64"
      ]
     },
     "execution_count": 19,
     "metadata": {},
     "output_type": "execute_result"
    }
   ],
   "execution_count": 19,
   "source": "pizzas.isnull().sum()",
   "id": "4b11014c8daf5bbe"
  },
  {
   "metadata": {
    "ExecuteTime": {
     "end_time": "2024-09-19T18:10:06.161151Z",
     "start_time": "2024-09-19T18:10:06.155784Z"
    }
   },
   "cell_type": "code",
   "outputs": [
    {
     "data": {
      "text/plain": [
       "pizza_type_id    0\n",
       "name             0\n",
       "category         0\n",
       "ingredients      0\n",
       "dtype: int64"
      ]
     },
     "execution_count": 20,
     "metadata": {},
     "output_type": "execute_result"
    }
   ],
   "execution_count": 20,
   "source": "pizza_types.isnull().sum()",
   "id": "971c6c377ed9567f"
  },
  {
   "metadata": {},
   "cell_type": "markdown",
   "source": "There are no missing values in these datasets!",
   "id": "f8d7ed8175ecfbee"
  },
  {
   "metadata": {},
   "cell_type": "markdown",
   "source": "## What are the pizza categories? ",
   "id": "95835ae51c50d220"
  },
  {
   "metadata": {
    "ExecuteTime": {
     "end_time": "2024-09-19T18:10:55.099429Z",
     "start_time": "2024-09-19T18:10:55.094628Z"
    }
   },
   "cell_type": "code",
   "source": [
    "# View pizza categories\n",
    "pizza_types['category'].value_counts()"
   ],
   "id": "efb7672b54c2a1eb",
   "outputs": [
    {
     "data": {
      "text/plain": [
       "category\n",
       "Supreme    9\n",
       "Veggie     9\n",
       "Classic    8\n",
       "Chicken    6\n",
       "Name: count, dtype: int64"
      ]
     },
     "execution_count": 21,
     "metadata": {},
     "output_type": "execute_result"
    }
   ],
   "execution_count": 21
  },
  {
   "metadata": {},
   "cell_type": "markdown",
   "source": "There are 4 main categories of pizzas.",
   "id": "82548249bd86200a"
  },
  {
   "metadata": {},
   "cell_type": "markdown",
   "source": "## What does the pizza menu look like?",
   "id": "8a507cc1d04a4321"
  },
  {
   "metadata": {
    "ExecuteTime": {
     "end_time": "2024-09-19T18:10:58.549027Z",
     "start_time": "2024-09-19T18:10:58.506589Z"
    }
   },
   "cell_type": "code",
   "source": [
    "# Pivot table that shows Pizza Menu\n",
    "menu = pizza_types[['category', 'pizza_type_id', 'name']]\n",
    "pd.pivot_table(menu, index=['category', 'pizza_type_id', 'name'])"
   ],
   "id": "ed6233d7079b4105",
   "outputs": [
    {
     "data": {
      "text/plain": [
       "Empty DataFrame\n",
       "Columns: []\n",
       "Index: [(Chicken, bbq_ckn, The Barbecue Chicken Pizza), (Chicken, cali_ckn, The California Chicken Pizza), (Chicken, ckn_alfredo, The Chicken Alfredo Pizza), (Chicken, ckn_pesto, The Chicken Pesto Pizza), (Chicken, southw_ckn, The Southwest Chicken Pizza), (Chicken, thai_ckn, The Thai Chicken Pizza), (Classic, big_meat, The Big Meat Pizza), (Classic, classic_dlx, The Classic Deluxe Pizza), (Classic, hawaiian, The Hawaiian Pizza), (Classic, ital_cpcllo, The Italian Capocollo Pizza), (Classic, napolitana, The Napolitana Pizza), (Classic, pep_msh_pep, The Pepperoni, Mushroom, and Peppers Pizza), (Classic, pepperoni, The Pepperoni Pizza), (Classic, the_greek, The Greek Pizza), (Supreme, brie_carre, The Brie Carre Pizza), (Supreme, calabrese, The Calabrese Pizza), (Supreme, ital_supr, The Italian Supreme Pizza), (Supreme, peppr_salami, The Pepper Salami Pizza), (Supreme, prsc_argla, The Prosciutto and Arugula Pizza), (Supreme, sicilian, The Sicilian Pizza), (Supreme, soppressata, The Soppressata Pizza), (Supreme, spicy_ital, The Spicy Italian Pizza), (Supreme, spinach_supr, The Spinach Supreme Pizza), (Veggie, five_cheese, The Five Cheese Pizza), (Veggie, four_cheese, The Four Cheese Pizza), (Veggie, green_garden, The Green Garden Pizza), (Veggie, ital_veggie, The Italian Vegetables Pizza), (Veggie, mediterraneo, The Mediterranean Pizza), (Veggie, mexicana, The Mexicana Pizza), (Veggie, spin_pesto, The Spinach Pesto Pizza), (Veggie, spinach_fet, The Spinach and Feta Pizza), (Veggie, veggie_veg, The Vegetables + Vegetables Pizza)]"
      ],
      "text/html": [
       "<div>\n",
       "<style scoped>\n",
       "    .dataframe tbody tr th:only-of-type {\n",
       "        vertical-align: middle;\n",
       "    }\n",
       "\n",
       "    .dataframe tbody tr th {\n",
       "        vertical-align: top;\n",
       "    }\n",
       "\n",
       "    .dataframe thead th {\n",
       "        text-align: right;\n",
       "    }\n",
       "</style>\n",
       "<table border=\"1\" class=\"dataframe\">\n",
       "  <thead>\n",
       "    <tr style=\"text-align: right;\">\n",
       "      <th></th>\n",
       "      <th></th>\n",
       "      <th></th>\n",
       "    </tr>\n",
       "    <tr>\n",
       "      <th>category</th>\n",
       "      <th>pizza_type_id</th>\n",
       "      <th>name</th>\n",
       "    </tr>\n",
       "  </thead>\n",
       "  <tbody>\n",
       "    <tr>\n",
       "      <th rowspan=\"6\" valign=\"top\">Chicken</th>\n",
       "      <th>bbq_ckn</th>\n",
       "      <th>The Barbecue Chicken Pizza</th>\n",
       "    </tr>\n",
       "    <tr>\n",
       "      <th>cali_ckn</th>\n",
       "      <th>The California Chicken Pizza</th>\n",
       "    </tr>\n",
       "    <tr>\n",
       "      <th>ckn_alfredo</th>\n",
       "      <th>The Chicken Alfredo Pizza</th>\n",
       "    </tr>\n",
       "    <tr>\n",
       "      <th>ckn_pesto</th>\n",
       "      <th>The Chicken Pesto Pizza</th>\n",
       "    </tr>\n",
       "    <tr>\n",
       "      <th>southw_ckn</th>\n",
       "      <th>The Southwest Chicken Pizza</th>\n",
       "    </tr>\n",
       "    <tr>\n",
       "      <th>thai_ckn</th>\n",
       "      <th>The Thai Chicken Pizza</th>\n",
       "    </tr>\n",
       "    <tr>\n",
       "      <th rowspan=\"8\" valign=\"top\">Classic</th>\n",
       "      <th>big_meat</th>\n",
       "      <th>The Big Meat Pizza</th>\n",
       "    </tr>\n",
       "    <tr>\n",
       "      <th>classic_dlx</th>\n",
       "      <th>The Classic Deluxe Pizza</th>\n",
       "    </tr>\n",
       "    <tr>\n",
       "      <th>hawaiian</th>\n",
       "      <th>The Hawaiian Pizza</th>\n",
       "    </tr>\n",
       "    <tr>\n",
       "      <th>ital_cpcllo</th>\n",
       "      <th>The Italian Capocollo Pizza</th>\n",
       "    </tr>\n",
       "    <tr>\n",
       "      <th>napolitana</th>\n",
       "      <th>The Napolitana Pizza</th>\n",
       "    </tr>\n",
       "    <tr>\n",
       "      <th>pep_msh_pep</th>\n",
       "      <th>The Pepperoni, Mushroom, and Peppers Pizza</th>\n",
       "    </tr>\n",
       "    <tr>\n",
       "      <th>pepperoni</th>\n",
       "      <th>The Pepperoni Pizza</th>\n",
       "    </tr>\n",
       "    <tr>\n",
       "      <th>the_greek</th>\n",
       "      <th>The Greek Pizza</th>\n",
       "    </tr>\n",
       "    <tr>\n",
       "      <th rowspan=\"9\" valign=\"top\">Supreme</th>\n",
       "      <th>brie_carre</th>\n",
       "      <th>The Brie Carre Pizza</th>\n",
       "    </tr>\n",
       "    <tr>\n",
       "      <th>calabrese</th>\n",
       "      <th>The Calabrese Pizza</th>\n",
       "    </tr>\n",
       "    <tr>\n",
       "      <th>ital_supr</th>\n",
       "      <th>The Italian Supreme Pizza</th>\n",
       "    </tr>\n",
       "    <tr>\n",
       "      <th>peppr_salami</th>\n",
       "      <th>The Pepper Salami Pizza</th>\n",
       "    </tr>\n",
       "    <tr>\n",
       "      <th>prsc_argla</th>\n",
       "      <th>The Prosciutto and Arugula Pizza</th>\n",
       "    </tr>\n",
       "    <tr>\n",
       "      <th>sicilian</th>\n",
       "      <th>The Sicilian Pizza</th>\n",
       "    </tr>\n",
       "    <tr>\n",
       "      <th>soppressata</th>\n",
       "      <th>The Soppressata Pizza</th>\n",
       "    </tr>\n",
       "    <tr>\n",
       "      <th>spicy_ital</th>\n",
       "      <th>The Spicy Italian Pizza</th>\n",
       "    </tr>\n",
       "    <tr>\n",
       "      <th>spinach_supr</th>\n",
       "      <th>The Spinach Supreme Pizza</th>\n",
       "    </tr>\n",
       "    <tr>\n",
       "      <th rowspan=\"9\" valign=\"top\">Veggie</th>\n",
       "      <th>five_cheese</th>\n",
       "      <th>The Five Cheese Pizza</th>\n",
       "    </tr>\n",
       "    <tr>\n",
       "      <th>four_cheese</th>\n",
       "      <th>The Four Cheese Pizza</th>\n",
       "    </tr>\n",
       "    <tr>\n",
       "      <th>green_garden</th>\n",
       "      <th>The Green Garden Pizza</th>\n",
       "    </tr>\n",
       "    <tr>\n",
       "      <th>ital_veggie</th>\n",
       "      <th>The Italian Vegetables Pizza</th>\n",
       "    </tr>\n",
       "    <tr>\n",
       "      <th>mediterraneo</th>\n",
       "      <th>The Mediterranean Pizza</th>\n",
       "    </tr>\n",
       "    <tr>\n",
       "      <th>mexicana</th>\n",
       "      <th>The Mexicana Pizza</th>\n",
       "    </tr>\n",
       "    <tr>\n",
       "      <th>spin_pesto</th>\n",
       "      <th>The Spinach Pesto Pizza</th>\n",
       "    </tr>\n",
       "    <tr>\n",
       "      <th>spinach_fet</th>\n",
       "      <th>The Spinach and Feta Pizza</th>\n",
       "    </tr>\n",
       "    <tr>\n",
       "      <th>veggie_veg</th>\n",
       "      <th>The Vegetables + Vegetables Pizza</th>\n",
       "    </tr>\n",
       "  </tbody>\n",
       "</table>\n",
       "</div>"
      ]
     },
     "execution_count": 22,
     "metadata": {},
     "output_type": "execute_result"
    }
   ],
   "execution_count": 22
  },
  {
   "metadata": {},
   "cell_type": "markdown",
   "source": "Note: `pizza_type_id` is an alias given to the names of the pizzas within the pizza menu.",
   "id": "36897cd2858998d9"
  },
  {
   "metadata": {},
   "cell_type": "markdown",
   "source": "# Export Cleaned Dataset",
   "id": "62e091561dd00906"
  },
  {
   "metadata": {
    "ExecuteTime": {
     "end_time": "2024-06-22T15:52:19.774664Z",
     "start_time": "2024-06-22T15:52:19.721048Z"
    }
   },
   "cell_type": "code",
   "source": "orders.to_csv('orders (cleaned)', index=False)",
   "id": "c62d33d5270f8476",
   "outputs": [],
   "execution_count": 89
  }
 ],
 "metadata": {
  "kernelspec": {
   "display_name": "Python 3",
   "language": "python",
   "name": "python3"
  },
  "language_info": {
   "codemirror_mode": {
    "name": "ipython",
    "version": 2
   },
   "file_extension": ".py",
   "mimetype": "text/x-python",
   "name": "python",
   "nbconvert_exporter": "python",
   "pygments_lexer": "ipython2",
   "version": "2.7.6"
  }
 },
 "nbformat": 4,
 "nbformat_minor": 5
}
